{
  "nbformat": 4,
  "nbformat_minor": 0,
  "metadata": {
    "colab": {
      "provenance": [],
      "authorship_tag": "ABX9TyOrIz7q8voyQRCZBUHJn7Wa"
    },
    "kernelspec": {
      "name": "python3",
      "display_name": "Python 3"
    },
    "language_info": {
      "name": "python"
    }
  },
  "cells": [
    {
      "cell_type": "code",
      "source": [
        "import pandas as pd\n",
        "from sklearn.model_selection import train_test_split\n",
        "from sklearn.feature_extraction.text import CountVectorizer\n",
        "from sklearn.naive_bayes import MultinomialNB\n",
        "from sklearn.metrics import precision_score\n",
        "from sklearn.metrics import recall_score\n",
        "from sklearn.metrics import accuracy_score\n",
        "\n",
        "#Reduced data Size.\n",
        "data = {\n",
        "    'review': [\n",
        "        \"I loved the movie\", \"Horrible acting\", \"What a great film\", \"Worst movie ever\", \"Really enjoyed it\", \"It was terrible\", \"Fantastic performance\",\n",
        "        \"Not good at all\", \"It was entertaining\", \"I was dissapointed\", \"I was excited while watching\", \"It was a dreadful experience\", \"The movie was very engaging\",\n",
        "        \"The film was unorigional\", \"It was really thought provoking\", \"The acting felt stiff\", \"The movie was thrilling\", \"The CGI was really bad\",\n",
        "        \"I really enjoyed the action\", \"The dialog was very boring\", \"I felt engaged the whole time\", \"It put me to sleep\", \"The ending was really good\",\n",
        "        \"The movie aged poorly\", \"The comedy was great\", \"The acting was bad\", \"It kept me on my toes\", \"The worst performance i have ever seen\",\n",
        "        \"I had quite the laugh\", \"It was really boring\"\n",
        "    ],\n",
        "\n",
        "    'label': [\n",
        "        'positive', 'negative', 'positive', 'negative', 'positive', 'negative', 'positive', 'negative',\n",
        "        'positive','negative', 'positive', 'negative', 'positive', 'negative', 'positive', 'negative',\n",
        "        'positive', 'negative','positive', 'negative', 'positive', 'negative', 'positive', 'negative',\n",
        "        'positive', 'negative','positive', 'negative', 'positive', 'negative'\n",
        "    ]\n",
        "}\n",
        "\n",
        "df = pd.DataFrame(data)\n",
        "\n",
        "#Cleaning data, stripping upercase for uniformity and removing whitespace.\n",
        "df ['review'] = df['review'].str.lower()\n",
        "df ['review'] = df['review'].str.strip()\n",
        "\n",
        "#Converting text to a numerical format.\n",
        "vectorizer = CountVectorizer()\n",
        "X = vectorizer.fit_transform(df['review'])\n",
        "y = df ['label']\n",
        "\n",
        "#Splitting data between training and testing variables.\n",
        "X_train, X_test, y_train, y_test = train_test_split(X, y, test_size=0.2)\n",
        "\n",
        "#Model training.\n",
        "model = MultinomialNB()\n",
        "model.fit(X_train, y_train)"
      ],
      "metadata": {
        "id": "sTDdk8bebWOy"
      },
      "execution_count": null,
      "outputs": []
    },
    {
      "cell_type": "code",
      "source": [
        "#Setting a sample prediction of reviews to test the variation.\n",
        "my_reviews = [\n",
        "    \"Worst movie ever\", \"Really enjoyed it\", \"I loved the movie\", \"It was terrible\", \"I loved the movie\"\n",
        "    ]\n",
        "review_vector = vectorizer.transform(my_reviews)\n",
        "print(\"Prediction:\", model.predict(review_vector))"
      ],
      "metadata": {
        "colab": {
          "base_uri": "https://localhost:8080/"
        },
        "id": "L_ZOtCyTY5A2",
        "outputId": "06d8bf99-a9da-47f0-b2eb-cce6426a62af"
      },
      "execution_count": null,
      "outputs": [
        {
          "output_type": "stream",
          "name": "stdout",
          "text": [
            "Prediction: ['negative' 'positive' 'positive' 'positive' 'positive']\n"
          ]
        }
      ]
    },
    {
      "cell_type": "code",
      "source": [
        "y_true = [\n",
        "    'negative', 'positive', 'positive', 'negative', 'positive'\n",
        "    ]\n",
        "\n",
        "#Tests the accuracy of positive predictions.\n",
        "#Despite only 4/5 predictions being correct all correct positives match y_true.\n",
        "print(\"Precision:\", precision_score(model.predict(review_vector), y_true, pos_label='positive'))\n",
        "\n",
        "#Tests the models accuracy in finding all positive predictions.\n",
        "#4/5 Instances were \"positive\" or correctly predicted rounding to (0.8).\n",
        "print(\"Recall:\", recall_score(model.predict(review_vector), y_true, pos_label='positive'))"
      ],
      "metadata": {
        "colab": {
          "base_uri": "https://localhost:8080/"
        },
        "id": "GxaRUtoiZP0i",
        "outputId": "453da1bf-00d9-402f-afa4-5ea326d778c3"
      },
      "execution_count": null,
      "outputs": [
        {
          "output_type": "stream",
          "name": "stdout",
          "text": [
            "Precision: 1.0\n",
            "Recall: 0.75\n"
          ]
        }
      ]
    },
    {
      "cell_type": "code",
      "source": [
        "#Evaluating the overall acuracy of the model.\n",
        "#Accuracy can be increased with data size.\n",
        "y_pred = model.predict(X_test)\n",
        "print(\"Acuracy:\", accuracy_score(y_test,y_pred))"
      ],
      "metadata": {
        "colab": {
          "base_uri": "https://localhost:8080/"
        },
        "id": "GSu4mppuY1Sq",
        "outputId": "23ed4f58-c917-4450-8461-661bc784ddb8"
      },
      "execution_count": null,
      "outputs": [
        {
          "output_type": "stream",
          "name": "stdout",
          "text": [
            "Acuracy: 0.5\n"
          ]
        }
      ]
    }
  ]
}